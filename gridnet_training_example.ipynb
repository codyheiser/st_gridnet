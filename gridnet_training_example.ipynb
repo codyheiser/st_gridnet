{
 "cells": [
  {
   "cell_type": "code",
   "execution_count": 22,
   "metadata": {},
   "outputs": [],
   "source": [
    "import os\n",
    "import numpy as np\n",
    "\n",
    "import torch\n",
    "from torch.utils.data import DataLoader\n",
    "from torchvision import transforms\n",
    "\n",
    "from src.datasets import PatchDataset, PatchGridDataset\n",
    "from src.gridnet_patches import GridNet, GridNetHex\n",
    "from src.densenet import DenseNet\n",
    "from src.training import train_gnet_2stage, train_gnet_finetune"
   ]
  },
  {
   "cell_type": "code",
   "execution_count": 13,
   "metadata": {},
   "outputs": [],
   "source": [
    "# Transforms for pre-processing of image data\n",
    "patch_size = 256\n",
    "xform = transforms.Compose([\n",
    "    transforms.Resize(256),\n",
    "    transforms.CenterCrop(patch_size),\n",
    "    transforms.ToTensor(),\n",
    "    transforms.Normalize(mean=[0.485, 0.456, 0.406], std=[0.229, 0.224, 0.225]),\n",
    "])\n",
    "\n",
    "# Used for gradient checkpointing -- process image arrays in 32 patch chunks to reduce memory usage!\n",
    "atonce_patch_limit = 32"
   ]
  },
  {
   "cell_type": "markdown",
   "metadata": {},
   "source": [
    "# Training GridNet on Cartestian ST data"
   ]
  },
  {
   "cell_type": "code",
   "execution_count": 20,
   "metadata": {},
   "outputs": [
    {
     "name": "stdout",
     "output_type": "stream",
     "text": [
      "Patch shape: torch.Size([3, 256, 256])\n",
      "Grid shape: torch.Size([32, 49, 3, 256, 256])\n"
     ]
    }
   ],
   "source": [
    "# Generate train/validation data sets\n",
    "imgs_train = os.path.expanduser(\"~/Desktop/aba_stdataset_20200212/imgs256_train\")\n",
    "lbls_train = os.path.expanduser(\"~/Desktop/aba_stdataset_20200212/lbls256_train\")\n",
    "imgs_val = os.path.expanduser(\"~/Desktop/aba_stdataset_20200212/imgs256_val\")\n",
    "lbls_val = os.path.expanduser(\"~/Desktop/aba_stdataset_20200212/lbls256_val\")\n",
    "\n",
    "h_st, w_st = 35, 33  # Height and width of ST array\n",
    "n_class = 13  # 13 distinct foreground tissue classes\n",
    "\n",
    "\n",
    "# Dataset of all (dissociated) foreground patches -- for pre-training of patch classifier.\n",
    "patch_train = PatchDataset(imgs_train, lbls_train, xform)\n",
    "patch_val = PatchDataset(imgs_val, lbls_val, xform)\n",
    "\n",
    "x,y = patch_train[0]\n",
    "print(\"Patch shape:\", str(x.shape))\n",
    "\n",
    "# Dataset of all image arrays -- for training of GridNet.\n",
    "grid_train = PatchGridDataset(imgs_train, lbls_train, xform)\n",
    "grid_val = PatchGridDataset(imgs_val, lbls_val, xform)\n",
    "\n",
    "x,y = grid_train[0]\n",
    "print(\"Grid shape:\", str(x.shape))\n",
    "\n",
    "\n",
    "# Data Loaders - present (shuffled) batches of input/output pairs to training routines\n",
    "batch_size = 1\n",
    "patch_loaders = {\n",
    "    \"train\": DataLoader(patch_train, batch_size=32, shuffle=True, pin_memory=True),\n",
    "    \"val\": DataLoader(patch_val, batch_size=32, shuffle=True, pin_memory=True)\n",
    "}\n",
    "grid_loaders = {\n",
    "    \"train\": DataLoader(grid_train, batch_size=batch_size, shuffle=True, pin_memory=True),\n",
    "    \"val\": DataLoader(grid_val, batch_size=batch_size, shuffle=True, pin_memory=True)\n",
    "}"
   ]
  },
  {
   "cell_type": "code",
   "execution_count": null,
   "metadata": {},
   "outputs": [],
   "source": [
    "# Model formulation employed in our publication\n",
    "\n",
    "# Local (patch) classifier\n",
    "f = DenseNet(num_classes=n_class, small_inputs=False, efficient=False,\n",
    "    growth_rate=32, block_config=(6, 12, 24, 16), num_init_features=64, bn_size=4, drop_rate=0)\n",
    "# Global (grid) corrector\n",
    "g = GridNet(f, patch_shape=(3,patch_size,patch_size), grid_shape=(h_st, w_st), n_classes=n_class, \n",
    "    use_bn=False, atonce_patch_limit=atonce_patch_limit)\n",
    "\n",
    "\n",
    "# Perform fitting with randomly sampled learning rate and alpha\n",
    "lr = 10 ** (np.random.uniform(-4,-3))\n",
    "alpha = np.random.random() * 0.1\n",
    "\n",
    "print(\"Learning Rate: %.4g\" % lr)\n",
    "print(\"Alpha: %.4g\" % alpha)\n",
    "\n",
    "train_gnet_2stage(g, [patch_loaders, grid_loaders], lr, alpha=alpha, num_epochs=100)"
   ]
  },
  {
   "cell_type": "markdown",
   "metadata": {},
   "source": [
    "# Training GridNetHex on Visium ST data"
   ]
  },
  {
   "cell_type": "code",
   "execution_count": null,
   "metadata": {},
   "outputs": [],
   "source": []
  }
 ],
 "metadata": {
  "kernelspec": {
   "display_name": "Python [conda env:root] *",
   "language": "python",
   "name": "conda-root-py"
  },
  "language_info": {
   "codemirror_mode": {
    "name": "ipython",
    "version": 3
   },
   "file_extension": ".py",
   "mimetype": "text/x-python",
   "name": "python",
   "nbconvert_exporter": "python",
   "pygments_lexer": "ipython3",
   "version": "3.7.6"
  }
 },
 "nbformat": 4,
 "nbformat_minor": 4
}
