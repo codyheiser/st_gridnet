{
 "cells": [
  {
   "cell_type": "code",
   "execution_count": 1,
   "metadata": {},
   "outputs": [],
   "source": [
    "import os, glob\n",
    "import re\n",
    "import numpy as np"
   ]
  },
  {
   "cell_type": "code",
   "execution_count": 2,
   "metadata": {},
   "outputs": [],
   "source": [
    "out_dir = \"../data/maynard_nested_xval/\"\n",
    "\n",
    "lr_pattern = re.compile(\"Learning Rate: (\\d+.\\d+(e-\\d+)*)\")\n",
    "alpha_pattern = re.compile(\"Alpha: (\\d+.*\\d*)\")\n",
    "acc_pattern = re.compile(\".* Acc: (\\d+.\\d+)\")\n",
    "\n",
    "folds = 6\n",
    "sub_folds = folds-1\n",
    "repetitions = 5\n",
    "\n",
    "# Store lr and alpha that lead to best val acc. for each fold (as well as the acc.)\n",
    "best_lrs = np.zeros((folds, sub_folds))\n",
    "best_alphas = np.zeros((folds, sub_folds))\n",
    "best_val_accs = np.zeros((folds, sub_folds))\n",
    "\n",
    "for i in range(150):\n",
    "    pth = os.path.join(out_dir, \"gnhex_maynard_xval.672174_%d.out\" % i)\n",
    "    \n",
    "    test_fold = i // (sub_folds * repetitions)\n",
    "    tmp = i - (test_fold * sub_folds * repetitions)\n",
    "    val_fold = tmp // repetitions\n",
    "    \n",
    "    if os.path.exists(pth):\n",
    "        train_acc, val_acc = [],[]\n",
    "        \n",
    "        for line in open(pth, \"r\"):\n",
    "            if line.startswith(\"Learning Rate:\"):\n",
    "                lr = float(lr_pattern.match(line).groups()[0])\n",
    "            if line.startswith(\"Alpha:\"):\n",
    "                alpha = float(alpha_pattern.match(line).groups()[0])\n",
    "                \n",
    "            if line.startswith(\"val Loss\"):\n",
    "                acc = float(acc_pattern.match(line).groups()[0])\n",
    "                val_acc.append(acc)\n",
    "            if line.startswith(\"train Loss\"):\n",
    "                acc = float(acc_pattern.match(line).groups()[0])\n",
    "                train_acc.append(acc)\n",
    "        \n",
    "        if len(val_acc) == 0:\n",
    "            continue\n",
    "                \n",
    "        # Find best-performing model:\n",
    "        best_ind = np.argmax(np.array(val_acc))\n",
    "        \n",
    "        if val_acc[best_ind] > best_val_accs[test_fold, val_fold]:\n",
    "            best_val_accs[test_fold, val_fold] = val_acc[best_ind]\n",
    "            best_lrs[test_fold, val_fold] = lr\n",
    "            best_alphas[test_fold, val_fold] = alpha"
   ]
  },
  {
   "cell_type": "code",
   "execution_count": 3,
   "metadata": {},
   "outputs": [
    {
     "name": "stdout",
     "output_type": "stream",
     "text": [
      "[[0.3273 0.4647 0.6158 0.6281 0.7183]\n",
      " [0.3375 0.5188 0.5819 0.5947 0.7026]\n",
      " [0.5183 0.5559 0.3845 0.5646 0.726 ]\n",
      " [0.5491 0.5447 0.3247 0.602  0.7285]\n",
      " [0.537  0.5704 0.5799 0.544  0.4914]\n",
      " [0.5661 0.5318 0.5744 0.538  0.4266]]\n",
      "[[0.0001118 0.0006247 0.0008457 0.0009427 0.0007056]\n",
      " [0.0009532 0.0005031 0.0008974 0.0007403 0.0008071]\n",
      " [0.0001152 0.0007056 0.0007925 0.0005237 0.0003473]\n",
      " [0.0009529 0.0007651 0.0005434 0.0009506 0.0003573]\n",
      " [0.0005617 0.000763  0.0001072 0.0007509 0.0007165]\n",
      " [0.0009475 0.0006576 0.0006036 0.0002143 0.0002234]]\n",
      "[[0.06566 0.08676 0.09531 0.06213 0.07951]\n",
      " [0.058   0.09421 0.08833 0.08537 0.02993]\n",
      " [0.07102 0.07245 0.07126 0.08979 0.06747]\n",
      " [0.08672 0.07126 0.06279 0.06364 0.09957]\n",
      " [0.06327 0.06248 0.09744 0.01142 0.0683 ]\n",
      " [0.08156 0.07579 0.03896 0.01768 0.05769]]\n"
     ]
    }
   ],
   "source": [
    "print(best_val_accs)\n",
    "print(best_lrs)\n",
    "print(best_alphas)"
   ]
  },
  {
   "cell_type": "code",
   "execution_count": 4,
   "metadata": {},
   "outputs": [
    {
     "name": "stdout",
     "output_type": "stream",
     "text": [
      "../data/gnethex_maynard_0_0_lr0.0001118_alpha0.06566.pth\n",
      "../data/gnethex_maynard_0_1_lr0.0006247_alpha0.08676.pth\n",
      "../data/gnethex_maynard_0_2_lr0.0008457_alpha0.09531.pth\n",
      "../data/gnethex_maynard_0_3_lr0.0009427_alpha0.06213.pth\n",
      "../data/gnethex_maynard_0_4_lr0.0007056_alpha0.07951.pth\n",
      "../data/gnethex_maynard_1_0_lr0.0009532_alpha0.058.pth\n",
      "../data/gnethex_maynard_1_1_lr0.0005031_alpha0.09421.pth\n",
      "../data/gnethex_maynard_1_2_lr0.0008974_alpha0.08833.pth\n",
      "../data/gnethex_maynard_1_3_lr0.0007403_alpha0.08537.pth\n",
      "../data/gnethex_maynard_1_4_lr0.0008071_alpha0.02993.pth\n",
      "../data/gnethex_maynard_2_0_lr0.0001152_alpha0.07102.pth\n",
      "../data/gnethex_maynard_2_1_lr0.0007056_alpha0.07245.pth\n",
      "../data/gnethex_maynard_2_2_lr0.0007925_alpha0.07126.pth\n",
      "../data/gnethex_maynard_2_3_lr0.0005237_alpha0.08979.pth\n",
      "../data/gnethex_maynard_2_4_lr0.0003473_alpha0.06747.pth\n",
      "../data/gnethex_maynard_3_0_lr0.0009529_alpha0.08672.pth\n",
      "../data/gnethex_maynard_3_1_lr0.0007651_alpha0.07126.pth\n",
      "../data/gnethex_maynard_3_2_lr0.0005434_alpha0.06279.pth\n",
      "../data/gnethex_maynard_3_3_lr0.0009506_alpha0.06364.pth\n",
      "../data/gnethex_maynard_3_4_lr0.0003573_alpha0.09957.pth\n",
      "../data/gnethex_maynard_4_0_lr0.0005617_alpha0.06327.pth\n",
      "../data/gnethex_maynard_4_1_lr0.000763_alpha0.06248.pth\n",
      "../data/gnethex_maynard_4_2_lr0.0001072_alpha0.09744.pth\n",
      "../data/gnethex_maynard_4_3_lr0.0007509_alpha0.01142.pth\n",
      "../data/gnethex_maynard_4_4_lr0.0007165_alpha0.0683.pth\n",
      "../data/gnethex_maynard_5_0_lr0.0009475_alpha0.08156.pth\n",
      "../data/gnethex_maynard_5_1_lr0.0006576_alpha0.07579.pth\n",
      "../data/gnethex_maynard_5_2_lr0.0006036_alpha0.03896.pth\n",
      "../data/gnethex_maynard_5_3_lr0.0002143_alpha0.01768.pth\n",
      "../data/gnethex_maynard_5_4_lr0.0002234_alpha0.05769.pth\n"
     ]
    }
   ],
   "source": [
    "# Find associated model files\n",
    "for i in range(folds):\n",
    "    for j in range(sub_folds):\n",
    "        lr = best_lrs[i,j]\n",
    "        alpha = best_alphas[i,j]\n",
    "        \n",
    "        model_file = \"../data/gnethex_maynard_%d_%d_lr%.4g_alpha%.4g.pth\" % (i,j,lr,alpha)\n",
    "        \n",
    "        if os.path.exists(model_file):\n",
    "            print(model_file)"
   ]
  },
  {
   "cell_type": "code",
   "execution_count": null,
   "metadata": {},
   "outputs": [],
   "source": []
  }
 ],
 "metadata": {
  "kernelspec": {
   "display_name": "Python 3",
   "language": "python",
   "name": "python3"
  },
  "language_info": {
   "codemirror_mode": {
    "name": "ipython",
    "version": 3
   },
   "file_extension": ".py",
   "mimetype": "text/x-python",
   "name": "python",
   "nbconvert_exporter": "python",
   "pygments_lexer": "ipython3",
   "version": "3.7.3"
  }
 },
 "nbformat": 4,
 "nbformat_minor": 2
}
